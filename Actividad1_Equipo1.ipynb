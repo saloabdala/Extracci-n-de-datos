{
  "nbformat": 4,
  "nbformat_minor": 0,
  "metadata": {
    "colab": {
      "provenance": [],
      "collapsed_sections": [],
      "include_colab_link": true
    },
    "kernelspec": {
      "name": "python3",
      "display_name": "Python 3"
    },
    "language_info": {
      "name": "python"
    }
  },
  "cells": [
    {
      "cell_type": "markdown",
      "metadata": {
        "id": "view-in-github",
        "colab_type": "text"
      },
      "source": [
        "<a href=\"https://colab.research.google.com/github/saloabdala/Extracci-n-de-datos/blob/main/Actividad1_Equipo1.ipynb\" target=\"_parent\"><img src=\"https://colab.research.google.com/assets/colab-badge.svg\" alt=\"Open In Colab\"/></a>"
      ]
    },
    {
      "cell_type": "code",
      "execution_count": null,
      "metadata": {
        "id": "fCLNPtwzWKwI"
      },
      "outputs": [],
      "source": [
        "#Importamos librerías requeridas\n",
        "import pandas as pd\n",
        "import numpy as np\n",
        "import matplotlib.pyplot as plt\n",
        "import seaborn as sns\n",
        "import io"
      ]
    },
    {
      "cell_type": "code",
      "source": [
        "#Cargar archivo csv\n",
        "from google.colab import files \n",
        "files.upload()"
      ],
      "metadata": {
        "id": "u8C_hSoneEcB"
      },
      "execution_count": null,
      "outputs": []
    },
    {
      "cell_type": "code",
      "source": [
        "#Convertir dataframe\n",
        "df= pd.read_csv(\"CountryTable.csv\")\n",
        "df"
      ],
      "metadata": {
        "id": "psla702UfwIn"
      },
      "execution_count": null,
      "outputs": []
    },
    {
      "cell_type": "markdown",
      "source": [
        "Filtro 1. Filtro por objeto"
      ],
      "metadata": {
        "id": "QXk_i7ugjI-M"
      }
    },
    {
      "cell_type": "code",
      "source": [
        "#Filtro por objeto\n",
        "filtro1a=df[df[\"continent\"] == \"Africa\"]\n",
        "filtro1a\n",
        "#Con este filtro se limita el continente, el continente que quiero que muestre es Africa.\n",
        "\n",
        "#Convertir archivo filtrado a CSV\n",
        "filtro1a.to_csv(\"filtro1a.csv\")\n",
        "\n",
        "#Descargar archivo filtrado en csv\n",
        "from google.colab import files\n",
        "\n",
        "files.download(\"filtro1a.csv\")"
      ],
      "metadata": {
        "id": "IB1tddOgjMf3"
      },
      "execution_count": null,
      "outputs": []
    },
    {
      "cell_type": "code",
      "source": [
        "filtro1b=df[df[\"local_name\"] == \"Angola\"]\n",
        "filtro1b\n",
        "#Con este filtro se limita el local_name, quiero que se muestre Angola\n",
        "\n",
        "#Convertir archivo filtrado a CSV\n",
        "filtro1b.to_csv(\"filtro1b.csv\")\n",
        "\n",
        "#Descargar archivo filtrado en csv\n",
        "from google.colab import files\n",
        "\n",
        "files.download(\"filtro1b.csv\")"
      ],
      "metadata": {
        "id": "Mfz79HQmjSUQ"
      },
      "execution_count": null,
      "outputs": []
    },
    {
      "cell_type": "markdown",
      "source": [
        "Filtro 2. Filtro por filas"
      ],
      "metadata": {
        "id": "anatMwKLgMm3"
      }
    },
    {
      "cell_type": "code",
      "source": [
        "#Con este filtro se busca la fila 50,70 y 80 de la tabla de datos con todas sus columnas correspondientes\n",
        "filtro2a=df.iloc[[50,70,80],:]\n",
        "filtro2a\n",
        "#Convertir archivo filtrado a csv\n",
        "filtro2a.to_csv(\"Filtro2a.csv\")\n",
        "#Descargar archivo filtrado en csv\n",
        "from google.colab import files\n",
        "files.download(\"Filtro2a.csv\")"
      ],
      "metadata": {
        "id": "Q0OAKihzf9A5"
      },
      "execution_count": null,
      "outputs": []
    },
    {
      "cell_type": "code",
      "source": [
        "#Con este filtro se busca de la fila 50 al 80 de la tabla de datos con todas sus columnas correspondientes\n",
        "filtro2b=df.iloc[50:80,:]\n",
        "filtro2b\n",
        "#Convertir archivo filtrado a csv\n",
        "filtro2b.to_csv(\"Filtro2b.csv\")\n",
        "#Descargar archivo filtrado en csv\n",
        "from google.colab import files\n",
        "files.download(\"Filtro2b.csv\")"
      ],
      "metadata": {
        "id": "0Wgm2BoHg-BE"
      },
      "execution_count": null,
      "outputs": []
    },
    {
      "cell_type": "markdown",
      "source": [
        "Filtro 3. Filtro por columnas"
      ],
      "metadata": {
        "id": "mLbb53N6jl6K"
      }
    },
    {
      "cell_type": "code",
      "source": [
        "#Filtro por columnas\n",
        "filtro3a=df.iloc[:,4:7]\n",
        "filtro3a\n",
        "#Convertir archivo filtrado a CSV\n",
        "filtro3a.to_csv('FiltroColumna1.csv')\n",
        "#descargar archivo filtrado en csv\n",
        "from google.colab import files\n",
        "files.download('FiltroColumna1.csv')"
      ],
      "metadata": {
        "id": "_r3iQgyPj4Dc"
      },
      "execution_count": null,
      "outputs": []
    },
    {
      "cell_type": "code",
      "source": [
        "#Filtro por columnas\n",
        "filtro3b=df.iloc[:,3:5]\n",
        "filtro3b\n",
        "#Convertir archivo filtrado a CSV\n",
        "filtro3b.to_csv('FiltroColumna2.csv')\n",
        "#descargar archivo filtrado en csv\n",
        "from google.colab import files\n",
        "files.download('FiltroColumna2.csv')"
      ],
      "metadata": {
        "id": "dkPgUm1YlmHR"
      },
      "execution_count": null,
      "outputs": []
    },
    {
      "cell_type": "markdown",
      "source": [
        "Filtro 4. Columnas vs Filas"
      ],
      "metadata": {
        "id": "nA4IU9Y2kK7s"
      }
    },
    {
      "cell_type": "code",
      "source": [
        "#filtro columnas.vs.filas\n",
        "#paso1: se tiene que leer el contenido de archivo \n",
        "from google.colab import files \n",
        "uploaded=files.upload()\n",
        "df = pd.read_csv(io.BytesIO(uploaded['CountryTable.csv']), index_col=1)\n",
        "#paso 2: aplicamos filas vs columnas en base a ciertas filas seleccionadas \n",
        "filtro_cvf=df.loc[[\"Afghanistan\",\"Croatia\"], [\"independence_year\"]]\n",
        "filtro_cvf\n",
        "#Convertir a csv\n",
        "filtro_cvf.to_csv('FiltroCvF.csv')\n",
        "#Descargar csv\n",
        "from google.colab import files\n",
        "files.download('FiltroCvF.csv')"
      ],
      "metadata": {
        "id": "vI8h9Hm4kOSa"
      },
      "execution_count": null,
      "outputs": []
    },
    {
      "cell_type": "code",
      "source": [
        "#lo mismo pero con otros valores a inspeccionar\n",
        "from google.colab import files \n",
        "uploaded=files.upload()\n",
        "df1 = pd.read_csv(io.BytesIO(uploaded['CountryTable.csv']), index_col=2)\n",
        "#el valor 2 define el numero de columna a analizar\n",
        "#paso 2: aplicamos filas vs columnas \n",
        "filtro_cvf2=df1.loc[[\"Asia\",\"Africa\"], [\"life_expectancy\"]]\n",
        "filtro_cvf2\n",
        "#Convertir a csv\n",
        "filtro_cvf2.to_csv('FiltroCvF2.csv')\n",
        "#Descargar csv\n",
        "from google.colab import files\n",
        "files.download('FiltroCvF2.csv')"
      ],
      "metadata": {
        "id": "V_jKn6NJkbVK"
      },
      "execution_count": null,
      "outputs": []
    },
    {
      "cell_type": "markdown",
      "source": [
        "FIltro 5. Filtro por cabecera"
      ],
      "metadata": {
        "id": "rmqha6pkj5t-"
      }
    },
    {
      "cell_type": "code",
      "source": [
        "#En este filtro se muestran las primeras 10 filas y columnas de nuestra tabla de datos\n",
        "filtro5a=df.head(10)\n",
        "filtro5a\n",
        "#Convertir archivo filtrado a CSV\n",
        "filtro5a.to_csv('FiltroCabecera1.csv')\n",
        "#descargar archivo filtrado en csv\n",
        "from google.colab import files\n",
        "files.download('FiltroCabecera1.csv')"
      ],
      "metadata": {
        "id": "blsdXSSyj89h"
      },
      "execution_count": null,
      "outputs": []
    },
    {
      "cell_type": "code",
      "source": [
        "#En este filtro se muestran las primeras 5 filas y columnas de nuestra tabla de datos\n",
        "filtro5b=df.head()\n",
        "filtro5b\n",
        "\n",
        "#Convertir archivo filtrado a CSV\n",
        "filtro5b.to_csv('FiltroCabecera2.csv')\n",
        "\n",
        "#descargar archivo filtrado en csv\n",
        "from google.colab import files\n",
        "files.download('FiltroCabecera2.csv')"
      ],
      "metadata": {
        "id": "yqKoSKYEkAdo"
      },
      "execution_count": null,
      "outputs": []
    },
    {
      "cell_type": "markdown",
      "source": [
        "Filtro 6. Filtro por comparación"
      ],
      "metadata": {
        "id": "pVXWJMBvkouU"
      }
    },
    {
      "cell_type": "code",
      "source": [
        "#Filtro por comparación\n",
        "filtro6a=df[df[\"population\"]>=2000000]\n",
        "filtro6a\n",
        "#Convertir archivo filtrado a CSV\n",
        "filtro6a.to_csv('FiltroComparacion1.csv')\n",
        "#descargar archivo filtrado en csv\n",
        "from google.colab import files\n",
        "files.download('FiltroComparacion1.csv')"
      ],
      "metadata": {
        "id": "0gvZCAeKksRG"
      },
      "execution_count": null,
      "outputs": []
    },
    {
      "cell_type": "code",
      "source": [
        "#Filtro por comparación\n",
        "filtro6b=df[df[\"surface_area\"]<200]\n",
        "filtro6b\n",
        "#Convertir archivo filtrado a CSV\n",
        "filtro6b.to_csv('FiltroComparacion2.csv')\n",
        "#descargar archivo filtrado en csv\n",
        "from google.colab import files\n",
        "files.download('FiltroComparacion2.csv')"
      ],
      "metadata": {
        "id": "zg6hmC71lr9O"
      },
      "execution_count": null,
      "outputs": []
    },
    {
      "cell_type": "markdown",
      "source": [
        "Filtro 7. Filtro AND"
      ],
      "metadata": {
        "id": "GvOytsO9ksmw"
      }
    },
    {
      "cell_type": "code",
      "source": [
        "#filtro Y/and\n",
        "#Este filtro muestra todas las filas de datos que cumplen con la condición de que la región sea en América sur y un área superficial menor o igual a 100000\n",
        "filtroAnd=df[(df['region']=='South America')&(df['surface_area']<=100000)]\n",
        "filtroAnd\n",
        "#Convertir archivo filtrado a CSV\n",
        "filtroAnd.to_csv('FiltroAnd1.csv')\n",
        "#descargar archivo filtrado en csv\n",
        "from google.colab import files\n",
        "files.download('FiltroAnd1.csv')"
      ],
      "metadata": {
        "id": "qZmgHg4Nku2s"
      },
      "execution_count": null,
      "outputs": []
    },
    {
      "cell_type": "code",
      "source": [
        "#filtro Y/and\n",
        "#Este filtro muestra todas las filas de datos que cumplen con la condición de que la población del país sea mayor a 1000000 y que sea una república\n",
        "filtroAnd2=df[(df['population']>1000000)&(df['government_form']=='Republic')]\n",
        "filtroAnd2\n",
        "#Convertir archivo filtrado a CSV\n",
        "filtroAnd2.to_csv('FiltroAnd2.csv')\n",
        "#descargar archivo filtrado en csv\n",
        "from google.colab import files\n",
        "files.download('FiltroAnd2.csv')"
      ],
      "metadata": {
        "id": "s8Y4ay0unHEq"
      },
      "execution_count": null,
      "outputs": []
    },
    {
      "cell_type": "markdown",
      "source": [
        "Filtro 8. Filtro OR"
      ],
      "metadata": {
        "id": "LovfIddWkvZB"
      }
    },
    {
      "cell_type": "code",
      "source": [
        "#Filtro o / OR\n",
        "filtro8b=df[(df[\"gnp\"] > 2000) | (df[\"local_name\"] == \"Congo\")]\n",
        "filtro8b\n",
        "#Convertir archivo filtrado a CSV\n",
        "filtro8b.to_csv('filtro8b.csv')\n",
        "#descargar archivo filtrado en csv\n",
        "from google.colab import files\n",
        "files.download('filtro8b.csv')\n",
        "#Este filtro limita que el gnp sea mayor a 2000 o el local name sea Congo"
      ],
      "metadata": {
        "id": "W0tTK3wLkxEY"
      },
      "execution_count": null,
      "outputs": []
    },
    {
      "cell_type": "code",
      "source": [
        "#Filtro o / OR\n",
        "filtro8a=df[(df[\"independence_year\"] >= 1900) | (df[\"government_form\"] == \"Republic\")]\n",
        "filtro8a\n",
        "#Convertir archivo filtrado a CSV\n",
        "filtro8a.to_csv('filtro8a.csv')\n",
        "#descargar archivo filtrado en csv\n",
        "from google.colab import files\n",
        "files.download('filtro8a.csv')\n",
        "#Este filtro delimita que el independence_year sea mayor o igual a 1900 o que el government_form sea igual a republic"
      ],
      "metadata": {
        "id": "bbRkszMmnxvD"
      },
      "execution_count": null,
      "outputs": []
    },
    {
      "cell_type": "markdown",
      "source": [
        "Filtro 9. Filtro NOT"
      ],
      "metadata": {
        "id": "SYWq-1aikxZh"
      }
    },
    {
      "cell_type": "code",
      "source": [
        "#filtro not, el escoger entre uno y otro\n",
        "filtro_not=df[~(df[\"surface_area\"] >= 2020)& ~(df[\"independence_year\"] > 1910)]\n",
        "#se seleccionan los valores que no se quieren o requieren para la comparacion. \n",
        "filtro_not\n",
        "#Convertir archivo filtrado a CSV\n",
        "filtro_not.to_csv('filtro_not.csv')\n",
        "#descargar archivo filtrado en csv\n",
        "from google.colab import files\n",
        "files.download('filtro_not.csv')"
      ],
      "metadata": {
        "id": "4NUfKpR4ky_3"
      },
      "execution_count": null,
      "outputs": []
    },
    {
      "cell_type": "code",
      "source": [
        "filtro_not1=df[~(df[\"population\"] > 100000)& ~(df[\"gnp\"] > 100)]\n",
        "filtro_not1\n",
        "#se seleccionan los valores que no se quieren o requieren para la comparacion. \n",
        "\n",
        "filtro_not1.to_csv('filtronot2.csv')\n",
        "#descargar archivo filtrado en csv\n",
        "from google.colab import files\n",
        "files.download('filtronot2.csv')\n",
        "#Convertir archivo filtrado a CSV"
      ],
      "metadata": {
        "id": "R7TEpMI2oiiX"
      },
      "execution_count": null,
      "outputs": []
    }
  ]
}